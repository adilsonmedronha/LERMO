{
 "cells": [
  {
   "cell_type": "code",
   "execution_count": 1,
   "metadata": {},
   "outputs": [
    {
     "name": "stderr",
     "output_type": "stream",
     "text": [
      "/tmp/ipykernel_379874/2796754810.py:1: DeprecationWarning: \n",
      "Pyarrow will become a required dependency of pandas in the next major release of pandas (pandas 3.0),\n",
      "(to allow more performant data types, such as the Arrow string type, and better interoperability with other libraries)\n",
      "but was not found to be installed on your system.\n",
      "If this would cause problems for you,\n",
      "please provide us feedback at https://github.com/pandas-dev/pandas/issues/54466\n",
      "        \n",
      "  import pandas as pd\n"
     ]
    }
   ],
   "source": [
    "import pandas as pd\n",
    "import numpy as np\n",
    "\n",
    "import onnx\n",
    "import onnxruntime\n",
    "\n",
    "from sklearn.preprocessing import LabelEncoder\n",
    "\n",
    "\n",
    "\n",
    "def to_numpy(tensor):\n",
    "    return tensor.detach().cpu().numpy() if tensor.requires_grad else tensor.cpu().numpy()\n",
    "\n",
    "\n",
    "def train_label_encoder(data_file, selected_classes=None):\n",
    "    df = pd.read_csv(data_file)\n",
    "    if selected_classes is not None:\n",
    "        df = df[df[\"Label\"].isin(selected_classes)]\n",
    "    labels = df[\"Label\"].values\n",
    "    label_encoder = LabelEncoder()\n",
    "    label_encoder.fit(labels)\n",
    "    return label_encoder"
   ]
  },
  {
   "cell_type": "code",
   "execution_count": 2,
   "metadata": {},
   "outputs": [],
   "source": [
    "import pandas as pd"
   ]
  },
  {
   "cell_type": "code",
   "execution_count": 7,
   "metadata": {},
   "outputs": [
    {
     "name": "stderr",
     "output_type": "stream",
     "text": [
      "/tmp/ipykernel_379874/1556606270.py:18: DeprecationWarning: DataFrameGroupBy.apply operated on the grouping columns. This behavior is deprecated, and in a future version of pandas the grouping columns will be excluded from the operation. Either pass `include_groups=False` to exclude the groupings or explicitly select the grouping columns after groupby to silence this warning.\n",
      "  df_train = df_train.groupby('Label').apply(lambda x: x.sample(n=500, replace=True, random_state=1)).reset_index(drop=True)\n"
     ]
    },
    {
     "name": "stdout",
     "output_type": "stream",
     "text": [
      "(13500, 42)\n",
      "(13500,)\n",
      "(47776, 42)\n",
      "(47776,)\n"
     ]
    }
   ],
   "source": [
    "import pandas as pd\n",
    "import numpy as np\n",
    "from sklearn.model_selection import train_test_split\n",
    "from sklearn.neighbors import KNeighborsClassifier\n",
    "from sklearn.svm import SVC\n",
    "from sklearn.ensemble import RandomForestClassifier\n",
    "from sklearn.naive_bayes import GaussianNB\n",
    "from sklearn.metrics import accuracy_score, f1_score, recall_score, precision_score\n",
    "\n",
    "# Define the experiment name and file path\n",
    "NAME = \"dataset\"\n",
    "PATH = \"/home/adilson/Git/LERMO/data/dataset.csv\"\n",
    "PATH = \"/home/adilson/Git/LERMO/experiments/a1-a2-a3-a4-actor5/train.csv\"\n",
    "\n",
    "\n",
    "# Load the training data\n",
    "df_train = pd.read_csv(PATH)\n",
    "df_train = df_train.groupby('Label').apply(lambda x: x.sample(n=500, replace=True, random_state=1)).reset_index(drop=True)\n",
    "#X_train = df_train.drop(columns=[\"Label\", \"Actor\"])\n",
    "X_train = df_train.drop(columns=[\"Label\"])\n",
    "Y_train = df_train[\"Label\"]\n",
    "\n",
    "print(X_train.shape)\n",
    "print(Y_train.shape)\n",
    "\n",
    "\n",
    "\n",
    "df_test = pd.read_csv(\"/home/adilson/Git/LERMO/data/Luis_LR_dns.csv\")\n",
    "#df_test = pd.read_csv(\"/home/adilson/Git/LERMO/data/test.csv\")\n",
    "df_test = pd.DataFrame(df_test)\n",
    "Y_TEST = df_test[\"Label\"]\n",
    "X_TEST = df_test.drop(columns=[\"Label\"])\n",
    "X_TEST = X_TEST.values.astype(np.float32)\n",
    "\n",
    "\n",
    "print(X_TEST.shape)\n",
    "print(Y_TEST.shape)"
   ]
  },
  {
   "cell_type": "code",
   "execution_count": 8,
   "metadata": {},
   "outputs": [
    {
     "name": "stderr",
     "output_type": "stream",
     "text": [
      "/home/adilson/miniconda3/envs/lermo/lib/python3.10/site-packages/sklearn/base.py:493: UserWarning: X does not have valid feature names, but KNeighborsClassifier was fitted with feature names\n",
      "  warnings.warn(\n",
      "/home/adilson/miniconda3/envs/lermo/lib/python3.10/site-packages/sklearn/base.py:493: UserWarning: X does not have valid feature names, but SVC was fitted with feature names\n",
      "  warnings.warn(\n",
      "/home/adilson/miniconda3/envs/lermo/lib/python3.10/site-packages/sklearn/base.py:493: UserWarning: X does not have valid feature names, but RandomForestClassifier was fitted with feature names\n",
      "  warnings.warn(\n",
      "/home/adilson/miniconda3/envs/lermo/lib/python3.10/site-packages/sklearn/base.py:493: UserWarning: X does not have valid feature names, but GaussianNB was fitted with feature names\n",
      "  warnings.warn(\n"
     ]
    },
    {
     "name": "stdout",
     "output_type": "stream",
     "text": [
      "       Experiment Name  Accuracy  F1-score  Recall  Precision\n",
      "0  K-Nearest Neighbors    0.8495    0.8296  0.8495     0.8533\n",
      "1                  SVM    0.8507    0.8283  0.8507     0.8559\n",
      "2        Random Forest    0.8330    0.8023  0.8330     0.8447\n",
      "3          Naive Bayes    0.7219    0.6902  0.7219     0.7368\n"
     ]
    }
   ],
   "source": [
    "import pandas as pd\n",
    "from sklearn.neighbors import KNeighborsClassifier\n",
    "from sklearn.svm import SVC\n",
    "from sklearn.ensemble import RandomForestClassifier\n",
    "from sklearn.naive_bayes import GaussianNB\n",
    "from sklearn.metrics import accuracy_score, f1_score, recall_score, precision_score\n",
    "\n",
    "models = [\n",
    "    (\"K-Nearest Neighbors\", KNeighborsClassifier()),\n",
    "    (\"SVM\", SVC()),\n",
    "    (\"Random Forest\", RandomForestClassifier()),\n",
    "    (\"Naive Bayes\", GaussianNB())\n",
    "]\n",
    "\n",
    "column_names = [\"Experiment Name\", \"Accuracy\", \"F1-score\", \"Recall\", \"Precision\"]\n",
    "\n",
    "\n",
    "results = []\n",
    "\n",
    "for model_name, model in models:\n",
    "    model.fit(X_train, Y_train)\n",
    "    Y_pred = model.predict(X_TEST)\n",
    "    accuracy = accuracy_score(Y_TEST, Y_pred)\n",
    "    f1 = f1_score(Y_TEST, Y_pred, average='weighted')\n",
    "    recall = recall_score(Y_TEST, Y_pred, average='weighted')\n",
    "    precision = precision_score(Y_TEST, Y_pred, average='weighted')\n",
    "    results.append([model_name, round(accuracy, 4) if not pd.isna(accuracy) else None,\n",
    "                    round(f1, 4) if not pd.isna(f1) else None,\n",
    "                    round(recall, 4) if not pd.isna(recall) else None,\n",
    "                    round(precision, 4) if not pd.isna(precision) else None])\n",
    "\n",
    "\n",
    "results_df = pd.DataFrame(results, columns=column_names)\n",
    "\n",
    "\n",
    "pd.set_option(\"display.float_format\", \"{:.4f}\".format)\n",
    "print(results_df)\n",
    "\n",
    "results_df.to_csv(\"experiments_sklearn.csv\", index=False)"
   ]
  }
 ],
 "metadata": {
  "kernelspec": {
   "display_name": "tudo",
   "language": "python",
   "name": "python3"
  },
  "language_info": {
   "codemirror_mode": {
    "name": "ipython",
    "version": 3
   },
   "file_extension": ".py",
   "mimetype": "text/x-python",
   "name": "python",
   "nbconvert_exporter": "python",
   "pygments_lexer": "ipython3",
   "version": "3.1.0"
  },
  "orig_nbformat": 4
 },
 "nbformat": 4,
 "nbformat_minor": 2
}
